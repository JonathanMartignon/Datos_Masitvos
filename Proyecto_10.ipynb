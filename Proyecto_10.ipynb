{
  "nbformat": 4,
  "nbformat_minor": 0,
  "metadata": {
    "colab": {
      "name": "Proyecto 10.ipynb",
      "provenance": [],
      "collapsed_sections": [],
      "authorship_tag": "ABX9TyM3D/0CSyg/JUwf28/rdBVv",
      "include_colab_link": true
    },
    "kernelspec": {
      "name": "python3",
      "display_name": "Python 3"
    }
  },
  "cells": [
    {
      "cell_type": "markdown",
      "metadata": {
        "id": "view-in-github",
        "colab_type": "text"
      },
      "source": [
        "<a href=\"https://colab.research.google.com/github/JonathanMartignon/Datos_Masitvos/blob/master/Proyecto_10.ipynb\" target=\"_parent\"><img src=\"https://colab.research.google.com/assets/colab-badge.svg\" alt=\"Open In Colab\"/></a>"
      ]
    },
    {
      "cell_type": "markdown",
      "metadata": {
        "id": "lTTvWD_eDu_k",
        "colab_type": "text"
      },
      "source": [
        "**Proyecto 10**\n",
        "\n",
        "* Martiñón Luna Jonathan José\n",
        "\n",
        "Fecha de Entrega: 16 Abril, 2020\n",
        "\n",
        "---\n",
        "\n",
        "Genera un buscador de imágenes usando índice inverso y visualiza las imágenes con mayor similitud de Jaccard, MinMax y Coseno. Para su implementación debes usar listas de Python y NumPy y la base de datos a emplear es:  imágenes de edificios de París. \n",
        "\n",
        "https://www.robots.ox.ac.uk/~vgg/data/parisbuildings/\n",
        "\n",
        "---\n",
        "\n",
        "Las bolsas ya están divididas en entrenamiento (dogs_ent.corpus y paris_ent.corpus) y validación (dogs_val.corpus y paris_ent.corpus).\n",
        "Se incluye la lista de imágenes para cada conjunto (de entrenamiento y validación)\n",
        "\n",
        "---\n",
        "\n",
        "El formato de las bolsas es el siguiente:\n",
        "\n",
        "size_of_list_1 item1_1:freq1_1 item2_1:freq2_1 ...\n",
        "\n",
        "size_of_list_1 item1_2:freq1_22 item2_2:freq2_2 ...\n",
        "\n",
        "...                        ...\n",
        "\n",
        "size_of_list_N item1_N:freq1_N item2_N:freq2_N ...\n",
        "\n",
        "\n",
        "Por ejemplo:\n",
        "\n",
        "6 3:9 4:8 7:5 12:1 16:5 18:5 \n",
        "\n",
        "3 2:7 3:4 8:5\n",
        "\n",
        "4 1:9 2:10 16:8 17:10\n",
        "\n",
        "4 10:10 11:4 15:8 16:3\n",
        "\n",
        "3 0:1 14:9 15:10\n",
        "\n",
        "---\n",
        "\n"
      ]
    },
    {
      "cell_type": "markdown",
      "metadata": {
        "id": "_jLQqpHdFPR9",
        "colab_type": "text"
      },
      "source": [
        "Inicio"
      ]
    },
    {
      "cell_type": "markdown",
      "metadata": {
        "id": "IVnCqfJzFa2W",
        "colab_type": "text"
      },
      "source": [
        "Creando las carpetas para almacenar"
      ]
    },
    {
      "cell_type": "code",
      "metadata": {
        "colab_type": "code",
        "id": "J5Wed68yhc-a",
        "colab": {}
      },
      "source": [
        "!mkdir /content/Data\n",
        "!mkdir /content/Data/Entrenamiento /content/Data/Validacion /content/Data/Imagenes"
      ],
      "execution_count": 0,
      "outputs": []
    },
    {
      "cell_type": "markdown",
      "metadata": {
        "id": "FfDRxP_2FEM8",
        "colab_type": "text"
      },
      "source": [
        "Descargando nuestros datos"
      ]
    },
    {
      "cell_type": "code",
      "metadata": {
        "id": "ucrLhH69DpcR",
        "colab_type": "code",
        "outputId": "9d74cd55-52d3-405e-ec2e-96a50cead656",
        "colab": {
          "base_uri": "https://localhost:8080/",
          "height": 783
        }
      },
      "source": [
        "!wget -O Data.zip https://www.dropbox.com/sh/8rf98easjw4dvt6/AADUGsVaUW5nvAk4CESAJQf5a?dl=0/lista_ent_paris.txt?dl=1\n",
        "!wget -O Imagenes.tgz http://www.robots.ox.ac.uk/~vgg/data/parisbuildings/paris_1.tgz\n",
        "!wget -O Imagenes2.tgz http://www.robots.ox.ac.uk/~vgg/data/parisbuildings/paris_2.tgz"
      ],
      "execution_count": 2,
      "outputs": [
        {
          "output_type": "stream",
          "text": [
            "--2020-04-22 03:39:25--  https://www.dropbox.com/sh/8rf98easjw4dvt6/AADUGsVaUW5nvAk4CESAJQf5a?dl=0/lista_ent_paris.txt?dl=1\n",
            "Resolving www.dropbox.com (www.dropbox.com)... 162.125.9.1, 2620:100:601f:1::a27d:901\n",
            "Connecting to www.dropbox.com (www.dropbox.com)|162.125.9.1|:443... connected.\n",
            "HTTP request sent, awaiting response... 301 Moved Permanently\n",
            "Location: /sh/raw/8rf98easjw4dvt6/AADUGsVaUW5nvAk4CESAJQf5a [following]\n",
            "--2020-04-22 03:39:25--  https://www.dropbox.com/sh/raw/8rf98easjw4dvt6/AADUGsVaUW5nvAk4CESAJQf5a\n",
            "Reusing existing connection to www.dropbox.com:443.\n",
            "HTTP request sent, awaiting response... 302 Found\n",
            "Location: https://uc585204204e05ccfcc2cf8d11f9.dl.dropboxusercontent.com/zip_download_get/AZuqDIfyu-u4FKHEzAQI5yMdNVF9tFW1F6l7Phejzo8JTb2sgD01Pw63Lv8HMOo7ueA8l7ES-1Www-JOIGtHc8tLvAeoYoM7A8q3rX39-ivRqA [following]\n",
            "--2020-04-22 03:39:26--  https://uc585204204e05ccfcc2cf8d11f9.dl.dropboxusercontent.com/zip_download_get/AZuqDIfyu-u4FKHEzAQI5yMdNVF9tFW1F6l7Phejzo8JTb2sgD01Pw63Lv8HMOo7ueA8l7ES-1Www-JOIGtHc8tLvAeoYoM7A8q3rX39-ivRqA\n",
            "Resolving uc585204204e05ccfcc2cf8d11f9.dl.dropboxusercontent.com (uc585204204e05ccfcc2cf8d11f9.dl.dropboxusercontent.com)... 162.125.8.6, 2620:100:601f:6::a27d:906\n",
            "Connecting to uc585204204e05ccfcc2cf8d11f9.dl.dropboxusercontent.com (uc585204204e05ccfcc2cf8d11f9.dl.dropboxusercontent.com)|162.125.8.6|:443... connected.\n",
            "HTTP request sent, awaiting response... 200 OK\n",
            "Length: 31038640 (30M) [application/zip]\n",
            "Saving to: ‘Data.zip’\n",
            "\n",
            "Data.zip            100%[===================>]  29.60M  33.1MB/s    in 0.9s    \n",
            "\n",
            "2020-04-22 03:39:27 (33.1 MB/s) - ‘Data.zip’ saved [31038640/31038640]\n",
            "\n",
            "--2020-04-22 03:39:28--  http://www.robots.ox.ac.uk/~vgg/data/parisbuildings/paris_1.tgz\n",
            "Resolving www.robots.ox.ac.uk (www.robots.ox.ac.uk)... 129.67.94.2\n",
            "Connecting to www.robots.ox.ac.uk (www.robots.ox.ac.uk)|129.67.94.2|:80... connected.\n",
            "HTTP request sent, awaiting response... 200 OK\n",
            "Length: 1269538001 (1.2G) [application/x-gzip]\n",
            "Saving to: ‘Imagenes.tgz’\n",
            "\n",
            "Imagenes.tgz        100%[===================>]   1.18G  32.4MB/s    in 38s     \n",
            "\n",
            "2020-04-22 03:40:06 (31.8 MB/s) - ‘Imagenes.tgz’ saved [1269538001/1269538001]\n",
            "\n",
            "--2020-04-22 03:40:07--  http://www.robots.ox.ac.uk/~vgg/data/parisbuildings/paris_2.tgz\n",
            "Resolving www.robots.ox.ac.uk (www.robots.ox.ac.uk)... 129.67.94.2\n",
            "Connecting to www.robots.ox.ac.uk (www.robots.ox.ac.uk)|129.67.94.2|:80... connected.\n",
            "HTTP request sent, awaiting response... 200 OK\n",
            "Length: 1343042257 (1.2G) [application/x-gzip]\n",
            "Saving to: ‘Imagenes2.tgz’\n",
            "\n",
            "Imagenes2.tgz       100%[===================>]   1.25G  32.0MB/s    in 40s     \n",
            "\n",
            "2020-04-22 03:40:47 (31.9 MB/s) - ‘Imagenes2.tgz’ saved [1343042257/1343042257]\n",
            "\n"
          ],
          "name": "stdout"
        }
      ]
    },
    {
      "cell_type": "markdown",
      "metadata": {
        "id": "NkCqxd88HXba",
        "colab_type": "text"
      },
      "source": [
        "Descomprimiendo\n"
      ]
    },
    {
      "cell_type": "code",
      "metadata": {
        "id": "tJA9qf0uHRv-",
        "colab_type": "code",
        "outputId": "d08ae2e1-a5dd-4bfe-99fd-1e254e7c40b8",
        "colab": {
          "base_uri": "https://localhost:8080/",
          "height": 141
        }
      },
      "source": [
        "!unzip Data.zip\n",
        "!tar xzf Imagenes.tgz -C /content/Data/Imagenes\n",
        "!tar xzf Imagenes2.tgz"
      ],
      "execution_count": 3,
      "outputs": [
        {
          "output_type": "stream",
          "text": [
            "Archive:  Data.zip\n",
            "warning:  stripped absolute path spec from /\n",
            "mapname:  conversion of  failed\n",
            " extracting: paris_val.corpus        \n",
            " extracting: paris_ent.corpus        \n",
            " extracting: lista_val_paris.txt     \n",
            " extracting: lista_ent_paris.txt     \n"
          ],
          "name": "stdout"
        }
      ]
    },
    {
      "cell_type": "markdown",
      "metadata": {
        "id": "xCY1TfCYljtM",
        "colab_type": "text"
      },
      "source": [
        "Moviendo nuestros archivos"
      ]
    },
    {
      "cell_type": "code",
      "metadata": {
        "id": "bqhQwpJXlkYv",
        "colab_type": "code",
        "colab": {}
      },
      "source": [
        "!mv paris_val.corpus /content/Data/Validacion/paris_val.txt\n",
        "!mv lista_val_paris.txt /content/Data/Validacion\n",
        "!mv paris_ent.corpus /content/Data/Entrenamiento/paris_ent.txt\n",
        "!mv lista_ent_paris.txt /content/Data/Entrenamiento\n",
        "!mv paris/museedorsay /content/Data/Imagenes/paris\n",
        "!mv paris/notredame /content/Data/Imagenes/paris\n",
        "!mv paris/pantheon /content/Data/Imagenes/paris\n",
        "!mv paris/pompidou /content/Data/Imagenes/paris\n",
        "!mv paris/sacrecoeur /content/Data/Imagenes/paris\n",
        "!mv paris/triomphe /content/Data/Imagenes/paris"
      ],
      "execution_count": 0,
      "outputs": []
    },
    {
      "cell_type": "markdown",
      "metadata": {
        "id": "8bRncAeIMX-W",
        "colab_type": "text"
      },
      "source": [
        "Eliminando los comprimidos que ya no nos sirven"
      ]
    },
    {
      "cell_type": "code",
      "metadata": {
        "id": "1KrKPXRwHR_y",
        "colab_type": "code",
        "colab": {}
      },
      "source": [
        "# !rm -r /content/Data # A veces me equivocaba y debía eliminar la carpeta entera\n",
        "!rm /content/Data.zip\n",
        "!rm /content/Imagenes.tgz\n",
        "!rm /content/Imagenes2.tgz\n",
        "# !rm -r /content/sample_data # Me 'hacía mosca' esa carpeta\n",
        "!rm -r /content/paris "
      ],
      "execution_count": 0,
      "outputs": []
    },
    {
      "cell_type": "markdown",
      "metadata": {
        "id": "JgdGBnYom5Qs",
        "colab_type": "text"
      },
      "source": [
        "Una vez que ya tenemos nuestros archivos cargados, podemos proceder a trabajar.\n",
        "Empezamos por cargar nuestras funciones de similitud (Extraídas de los notebooks de clase)"
      ]
    },
    {
      "cell_type": "code",
      "metadata": {
        "id": "H16dh49fTddP",
        "colab_type": "code",
        "colab": {}
      },
      "source": [
        "import numpy as np\n",
        "import matplotlib.pyplot as plt\n",
        "import random"
      ],
      "execution_count": 0,
      "outputs": []
    },
    {
      "cell_type": "code",
      "metadata": {
        "id": "UZ8WoKhdnRT1",
        "colab_type": "code",
        "colab": {}
      },
      "source": [
        "# Modificamos internamente, pues le enviamos listas\n",
        "def similitud_coseno(x, y):\n",
        "  x = np.asarray(x)\n",
        "  y = np.asarray(y)\n",
        "  return (x @ y) / (np.sqrt(x @ x) * np.sqrt(y @ y))"
      ],
      "execution_count": 0,
      "outputs": []
    },
    {
      "cell_type": "code",
      "metadata": {
        "id": "BmLdgAv2piQT",
        "colab_type": "code",
        "colab": {}
      },
      "source": [
        "def similitud_jaccard(x, y):\n",
        "  x = np.asarray(x)\n",
        "  y = np.asarray(y)\n",
        "  inter = np.count_nonzero(x * y)\n",
        "  return inter / (np.count_nonzero(x) + np.count_nonzero(y) - inter)"
      ],
      "execution_count": 0,
      "outputs": []
    },
    {
      "cell_type": "code",
      "metadata": {
        "id": "tgPUeGTZph8p",
        "colab_type": "code",
        "colab": {}
      },
      "source": [
        "def similitud_minmax(x, y):\n",
        "  x = np.asarray(x)\n",
        "  y = np.asarray(y)\n",
        "  c = np.vstack((x,y))\n",
        "  mn = np.sum(np.min(c, axis=0))\n",
        "  mx = np.sum(np.max(c, axis=0))\n",
        "  return mn / mx"
      ],
      "execution_count": 0,
      "outputs": []
    },
    {
      "cell_type": "code",
      "metadata": {
        "id": "eLfPcbtJUDHS",
        "colab_type": "code",
        "colab": {}
      },
      "source": [
        "# Probando las distancias\n",
        "a = [1,2,3,4,5]\n",
        "b = [1,3,5,2,3]"
      ],
      "execution_count": 0,
      "outputs": []
    },
    {
      "cell_type": "code",
      "metadata": {
        "id": "WF1ah5SoUTG0",
        "colab_type": "code",
        "colab": {
          "base_uri": "https://localhost:8080/",
          "height": 34
        },
        "outputId": "411efc49-f7f1-4bef-e370-16ee1d632a1a"
      },
      "source": [
        "# Coseno\n",
        "similitud_coseno(a,b)"
      ],
      "execution_count": 11,
      "outputs": [
        {
          "output_type": "execute_result",
          "data": {
            "text/plain": [
              "0.8758113121817135"
            ]
          },
          "metadata": {
            "tags": []
          },
          "execution_count": 11
        }
      ]
    },
    {
      "cell_type": "code",
      "metadata": {
        "id": "vdEBv_qHULZt",
        "colab_type": "code",
        "colab": {
          "base_uri": "https://localhost:8080/",
          "height": 34
        },
        "outputId": "f2d28e76-9d46-4861-a807-a5c21c55abde"
      },
      "source": [
        "# Jaccard\n",
        "similitud_jaccard(a,b)"
      ],
      "execution_count": 12,
      "outputs": [
        {
          "output_type": "execute_result",
          "data": {
            "text/plain": [
              "1.0"
            ]
          },
          "metadata": {
            "tags": []
          },
          "execution_count": 12
        }
      ]
    },
    {
      "cell_type": "code",
      "metadata": {
        "id": "EZOW8xqWULOh",
        "colab_type": "code",
        "colab": {
          "base_uri": "https://localhost:8080/",
          "height": 34
        },
        "outputId": "9d7bd5e1-f8e6-4873-c185-3c81d761ba96"
      },
      "source": [
        "# MinMax\n",
        "similitud_minmax(a,b)"
      ],
      "execution_count": 13,
      "outputs": [
        {
          "output_type": "execute_result",
          "data": {
            "text/plain": [
              "0.6111111111111112"
            ]
          },
          "metadata": {
            "tags": []
          },
          "execution_count": 13
        }
      ]
    },
    {
      "cell_type": "markdown",
      "metadata": {
        "id": "vIyCC8JlXHqv",
        "colab_type": "text"
      },
      "source": [
        "---\n",
        "\n",
        "Esta función se encargará de mostrar nuestra imagen a partir del nombre sin la necesidad de la extensión, es decir, tal y como vienen en nuestras listas\n",
        "\n",
        "---"
      ]
    },
    {
      "cell_type": "code",
      "metadata": {
        "id": "oF2RkqEXXF-M",
        "colab_type": "code",
        "colab": {}
      },
      "source": [
        "def obten_imagen(name):\n",
        "\n",
        "  ruta = '/content/Data/Imagenes/paris/'\n",
        "  carpeta = name.split('_')[1] + '/'\n",
        "  ruta += carpeta + name +'.jpg'\n",
        "  \n",
        "  # print(ruta)\n",
        "\n",
        "  imagen = plt.imread(ruta)\n",
        "  plt.imshow(imagen)\n",
        "  plt.title(name)\n",
        "  plt.axis('off')\n",
        "  plt.show()"
      ],
      "execution_count": 0,
      "outputs": []
    },
    {
      "cell_type": "markdown",
      "metadata": {
        "id": "G47iVP5PrnUk",
        "colab_type": "text"
      },
      "source": [
        "Así mismo, extraemos nuestra clase de Índice inverso, teniendo en cuenta que no hacemos uso de matrices de disperción, nos vemos en la nececidad de modificar la clase"
      ]
    },
    {
      "cell_type": "code",
      "metadata": {
        "id": "EXzf63-mZFGv",
        "colab_type": "code",
        "colab": {}
      },
      "source": [
        "# import math"
      ],
      "execution_count": 0,
      "outputs": []
    },
    {
      "cell_type": "code",
      "metadata": {
        "id": "N1t0hmrZpovA",
        "colab_type": "code",
        "colab": {}
      },
      "source": [
        "class IndiceInverso:\n",
        "\n",
        "  # Me parece que esta función no es necesario que se modifique, pues \n",
        "  # En la clase original se convierte el csr en listas, cosa que en este\n",
        "  # Caso, ya está hecho\n",
        "  def  __getitem__(self, idx):\n",
        "    return self.ifs[idx]\n",
        "\n",
        "  # Esta función igualmente es llamada después de la conversión a listas\n",
        "  def recupera(self, l):\n",
        "    # Creo que esta función recibe la bolsa de características de una imagen\n",
        "    # Y simplemente recupera las imágenes en los que están presentes cada una\n",
        "    imgs = Counter()\n",
        "    for Car in l:\n",
        "      # Ya tenemos la característica, necesitamos su pocisión\n",
        "      # En nuestro ifs\n",
        "      self.Index = self.Ind_Car.index(Car)\n",
        "      #Ahora sí la podemos llamar\n",
        "      imgs.update(self.ifs[self.Index])\n",
        "\n",
        "    return docs\n",
        "\n",
        "  # Anteriormente from_csr, no se me ocurría un nombre adecuado\n",
        "  def Add(self, Data): \n",
        "\n",
        "    # Data es la lista de listas con cada bolsa\n",
        "\n",
        "\n",
        "    # Me parece que de acuerdo a lo observado, en el comportamiento del\n",
        "    # Código anterior, lo que se almacena es el documento (i)\n",
        "    # De acuerdo a la característica que pertenecen (j)\n",
        "    # self.ifs[j].append(i)\n",
        "    # Claro, estaban en otro formato, por lo que había que convertir, sin embargo\n",
        "    # Este no es el caso, se puede realizar directamente\n",
        "\n",
        "    # A decir verdad, no entiendo bien cuántas carácterísticas voy a tener,\n",
        "    # Por lo que es una lista abierta\n",
        "\n",
        "    \n",
        "\n",
        "    #Este ciclo se encargará de  orgranizar las características en orden\n",
        "    # Para evitar tener la 1, 2, 132, y que se tenga mucha distancia\n",
        "    # Si se ordenan en un arreglo, sabremos que la posición 0 corresponde \n",
        "    # a la característica 1, la posición 2 a la característica 2, la posición\n",
        "    # 3 a la característica 132 y así nos evitamos los espacios de memoria\n",
        "    # Vacíos\n",
        "\n",
        "    self.Ind_Car =[] \n",
        "\n",
        "    # i = 0\n",
        "    for bolsa in Data:\n",
        "      #Evaluamos cada bolsa en los datos\n",
        "\n",
        "      for Car in bolsa:\n",
        "\n",
        "        #Evaluamos cada característica de la bolsa\n",
        "        if len(self.Ind_Car) == 0:\n",
        "\n",
        "          # La primera la añadimos automáticamente\n",
        "          self.Ind_Car.append(Car)\n",
        "        else:\n",
        "\n",
        "          if Car in self.Ind_Car:\n",
        "            # En caso de que la característica ya esté no hacemos nada\n",
        "            pass\n",
        "          else:\n",
        "          \n",
        "            # Si no está en nuestra lista, la añadimos\n",
        "            self.Ind_Car.append(Car)\n",
        "      # i+=1\n",
        "    #   print(f\"{math.floor(i*100 / len(Data))}% de la lista de características\")\n",
        "    print(\"-------------------------\")\n",
        "    print(\"-------------------------\")\n",
        "    print(\"-------------------------\")\n",
        "    print(\"-------------------------\")\n",
        "    print(\"-------------------------\")\n",
        "    print(\"-----Cambio de Ciclo-----\")\n",
        "    print(\"-------------------------\")\n",
        "    print(\"-------------------------\")\n",
        "    print(\"-------------------------\")\n",
        "    print(\"-------------------------\")\n",
        "    print(\"-------------------------\")\n",
        "    # Ordenamos para que exista cierta la lógica que se mencionó en un principio\n",
        "    # con el ejemplo de 1,2,132 \n",
        "    # [Creo que ordenarlos no era necesario]\n",
        "    self.Ind_Car.sort()\n",
        "\n",
        "    # Ya contamos con las pocisiones de cada característica\n",
        "    # Ya podemos proceder a armar el ifs de tamaño igual al total de características\n",
        "\n",
        "    self.ifs = [[] for _ in range(len(self.Ind_Car))]\n",
        "\n",
        "\n",
        "    # Nuestro ciclo que agregará cada imagen con su correspondiente característica\n",
        "    # Es decir la característica 1 tendrá la imagen 1,3,6, dependiendo en cuáles\n",
        "    # Aparezca\n",
        "\n",
        "    # i nos ayudará a saber de qué imagen se trata\n",
        "    for i, Bolsa in enumerate(Data):\n",
        "      \n",
        "      for Car in Bolsa:\n",
        "        #Obtenemos el índice de nuestra característica\n",
        "        self.Index = self.Ind_Car.index(Car)\n",
        "\n",
        "        #Ahora ya sabemos dónde debemos colocar\n",
        "        # Es decir, a  la característica X se le añade que existe\n",
        "        # En el documento i\n",
        "        self.ifs[self.Index].append(i)  \n",
        "\n",
        "      # print(f\"{i+1} de {len(Data)} imágenes\")\n",
        "      # print(f\"{math.floor(i*100 / len(Data))}% de la lista de imágenes\")\n",
        "      \n",
        "    \n",
        "    # Al final Tendremos nuestra lista de documentos que pertenecen a\n",
        "    # Cada característica tal y como se generó en el ejemplo visto en clase.\n",
        "    "
      ],
      "execution_count": 0,
      "outputs": []
    },
    {
      "cell_type": "markdown",
      "metadata": {
        "id": "iAxbY1Jbcn3c",
        "colab_type": "text"
      },
      "source": [
        "Extraemos la función que lee las bolsas, recordamos que a diferencia del ejemplo visto en clase, nuestras bolsas se encuentran solo en 2 archivos, entrenamiento y validación, a diferencia del ejemplo donde teníamos una carpeta de entrenamiento y las bolsas separadas en archivos .txt"
      ]
    },
    {
      "cell_type": "code",
      "metadata": {
        "id": "YruK-I-Sc450",
        "colab_type": "code",
        "colab": {}
      },
      "source": [
        "def lee_bolsa(ruta):\n",
        "  b = []\n",
        "  with open(ruta, 'r') as f:\n",
        "\n",
        "    for l in f.readlines():\n",
        "\n",
        "      # print(l) # En caso de querer ver la bolsa que se está trabajando\n",
        "      aux = l.split()[1:] # Me parece que no usamos la longitud de la bolsa\n",
        "      new_list = [] # Lista auxiliar que recogerá los items de cada bolsa\n",
        "\n",
        "      for item in aux:\n",
        "\n",
        "        item_split = item.split(':')\n",
        "        new_list.append(int(item_split[0])) # Sólo tomaremos el item, la frecuencia no\n",
        "\n",
        "        if int(item_split[1]) != 1:\n",
        "\n",
        "          print(\"Valor diferente a 1 ->\",item_split[1]) \n",
        "          # Las frecuencias a mi parecer siempre eran 1\n",
        "          # Quería ver si alguna era diferente\n",
        "          # Cosa que no sucedió\n",
        "\n",
        "      b.append(new_list) # Añadimos la lista con los items de cada una de las bolsas\n",
        "\n",
        "  return b"
      ],
      "execution_count": 0,
      "outputs": []
    },
    {
      "cell_type": "markdown",
      "metadata": {
        "id": "rc5TyJJpcb9J",
        "colab_type": "text"
      },
      "source": [
        "Modificamos La función que lee las bolsas para que lea las listas"
      ]
    },
    {
      "cell_type": "code",
      "metadata": {
        "id": "Zsf7C9_Hcg7u",
        "colab_type": "code",
        "colab": {}
      },
      "source": [
        "def lee_lista(ruta):\n",
        "  b = []\n",
        "  with open(ruta, 'r') as f:\n",
        "    for l in f.readlines():\n",
        "      l = l[:-1] # El último elemento que guardaba era un salto de línea, lo eliminamos \"\\n\"\n",
        "      b.append(l)\n",
        "  return b"
      ],
      "execution_count": 0,
      "outputs": []
    },
    {
      "cell_type": "markdown",
      "metadata": {
        "id": "TJSTRk3x3rOp",
        "colab_type": "text"
      },
      "source": [
        "---\n",
        "Leyendo Las bolsas \n",
        "\n",
        "---"
      ]
    },
    {
      "cell_type": "code",
      "metadata": {
        "id": "8bEN4cRC38pd",
        "colab_type": "code",
        "colab": {}
      },
      "source": [
        "bolsas_entrenamiento = lee_bolsa('/content/Data/Entrenamiento/paris_ent.txt')"
      ],
      "execution_count": 0,
      "outputs": []
    },
    {
      "cell_type": "code",
      "metadata": {
        "id": "y1Gb3men3-CH",
        "colab_type": "code",
        "colab": {}
      },
      "source": [
        "bolsas_validacion = lee_bolsa('/content/Data/Validacion/paris_val.txt')"
      ],
      "execution_count": 0,
      "outputs": []
    },
    {
      "cell_type": "markdown",
      "metadata": {
        "id": "ln1mw_MY4Csi",
        "colab_type": "text"
      },
      "source": [
        "---\n",
        "Leyendo las listas\n",
        "\n",
        "---"
      ]
    },
    {
      "cell_type": "code",
      "metadata": {
        "id": "rvfBlgyVZpm1",
        "colab_type": "code",
        "colab": {}
      },
      "source": [
        "Lista_Entr = lee_lista('/content/Data/Entrenamiento/lista_ent_paris.txt')"
      ],
      "execution_count": 0,
      "outputs": []
    },
    {
      "cell_type": "code",
      "metadata": {
        "id": "WoAlei0l3iOR",
        "colab_type": "code",
        "colab": {}
      },
      "source": [
        "Lista_Val = lee_lista('/content/Data/Validacion/lista_val_paris.txt')"
      ],
      "execution_count": 0,
      "outputs": []
    },
    {
      "cell_type": "markdown",
      "metadata": {
        "id": "aqxE0c4P4HQ7",
        "colab_type": "text"
      },
      "source": [
        "---\n",
        "Verificando los datos en cada una de nuestras listas y bolsas\n",
        "\n",
        "---"
      ]
    },
    {
      "cell_type": "code",
      "metadata": {
        "id": "XBjvcZTN4h97",
        "colab_type": "code",
        "outputId": "be250f23-b1f5-4820-bbe3-dc832dd99def",
        "colab": {
          "base_uri": "https://localhost:8080/",
          "height": 52
        }
      },
      "source": [
        "print(\"Contamos con\",len(bolsas_entrenamiento),\"bolsas de entrenamiento\")\n",
        "print(\"Los 3 primeros items de la primera bolsa son:\",bolsas_entrenamiento[0][0:3])"
      ],
      "execution_count": 23,
      "outputs": [
        {
          "output_type": "stream",
          "text": [
            "Contamos con 5112 bolsas de entrenamiento\n",
            "Los 3 primeros items de la primera bolsa son: [129026, 147458, 176134]\n"
          ],
          "name": "stdout"
        }
      ]
    },
    {
      "cell_type": "code",
      "metadata": {
        "id": "8XVhcSLv41Nc",
        "colab_type": "code",
        "outputId": "4bc741e5-6fbd-4432-d1d7-129c6e595dd1",
        "colab": {
          "base_uri": "https://localhost:8080/",
          "height": 52
        }
      },
      "source": [
        "print(\"Contamos con\",len(bolsas_validacion),\"bolsas de validación\")\n",
        "print(\"Los 3 primeros items de la primera bolsa son:\",bolsas_validacion[0][0:3])"
      ],
      "execution_count": 24,
      "outputs": [
        {
          "output_type": "stream",
          "text": [
            "Contamos con 1278 bolsas de validación\n",
            "Los 3 primeros items de la primera bolsa son: [225282, 149508, 233476]\n"
          ],
          "name": "stdout"
        }
      ]
    },
    {
      "cell_type": "code",
      "metadata": {
        "id": "osk2iR6Y49tt",
        "colab_type": "code",
        "outputId": "7aa340db-686e-414b-b8d5-611ae36b4e7a",
        "colab": {
          "base_uri": "https://localhost:8080/",
          "height": 52
        }
      },
      "source": [
        "print(\"Nuestra lista de entrenamiento tiene\",len(Lista_Entr),\"elementos\")\n",
        "print(\"Las primeras 3 imágenes son:\",Lista_Entr[0:3])"
      ],
      "execution_count": 25,
      "outputs": [
        {
          "output_type": "stream",
          "text": [
            "Nuestra lista de entrenamiento tiene 5112 elementos\n",
            "Las primeras 3 imágenes son: ['paris_defense_000534', 'paris_general_000904', 'paris_general_001104']\n"
          ],
          "name": "stdout"
        }
      ]
    },
    {
      "cell_type": "code",
      "metadata": {
        "id": "wJzIeNrr5hoM",
        "colab_type": "code",
        "outputId": "33a87bac-7eb3-440e-c53f-62c03796f069",
        "colab": {
          "base_uri": "https://localhost:8080/",
          "height": 52
        }
      },
      "source": [
        "print(\"Nuestra lista de validación tiene\",len(Lista_Val),\"elementos\")\n",
        "print(\"Las primeras 3 imágenes son:\",Lista_Val[0:3])"
      ],
      "execution_count": 26,
      "outputs": [
        {
          "output_type": "stream",
          "text": [
            "Nuestra lista de validación tiene 1278 elementos\n",
            "Las primeras 3 imágenes son: ['paris_moulinrouge_000529', 'paris_museedorsay_000353', 'paris_pantheon_000517']\n"
          ],
          "name": "stdout"
        }
      ]
    },
    {
      "cell_type": "markdown",
      "metadata": {
        "id": "MTYFmFT95qNi",
        "colab_type": "text"
      },
      "source": [
        "---\n",
        "Llegados a este punto hemos verificado que contamos con la misma cantidad de elementos dentro de nuestras bolsas con sus correspondientes listas, así mismo, hemos corroborado la forma de nuestras bolsas y lo elementos de las mismas.\n",
        "\n",
        "Realizamos un histograma de nuestras características en nuestro conjunto de entrenamiento\n",
        "\n",
        "---"
      ]
    },
    {
      "cell_type": "code",
      "metadata": {
        "id": "3bK0QS17-xi4",
        "colab_type": "code",
        "colab": {}
      },
      "source": [
        "hist = np.array(bolsas_entrenamiento[0])\n",
        "for i in range(1,len(bolsas_entrenamiento)):\n",
        "  np.append(hist, bolsas_entrenamiento[i])\n"
      ],
      "execution_count": 0,
      "outputs": []
    },
    {
      "cell_type": "code",
      "metadata": {
        "id": "2eueZzaxy4Xc",
        "colab_type": "code",
        "colab": {}
      },
      "source": [
        "hist2 = np.array(bolsas_validacion[0])\n",
        "for i in range(1,len(bolsas_validacion)):\n",
        "  np.append(hist2, bolsas_validacion[i])"
      ],
      "execution_count": 0,
      "outputs": []
    },
    {
      "cell_type": "code",
      "metadata": {
        "id": "tylef4dDe1JK",
        "colab_type": "code",
        "outputId": "db2afb5b-3b6d-4708-e65a-fc18421bbd86",
        "colab": {
          "base_uri": "https://localhost:8080/",
          "height": 355
        }
      },
      "source": [
        "# No recuerdo para qué ploteabamos, pero se ve bonito\n",
        "plt.show()\n",
        "fig, axs = plt.subplots(1, 2, figsize=(13, 5), sharey=True)\n",
        "axs[0].hist(hist,bins=700)\n",
        "axs[0].set_title('Entrenamiento')\n",
        "axs[1].hist(hist2,bins=700)\n",
        "axs[1].set_title('Validación')\n",
        "fig.suptitle('Histogramas de Características')\n",
        "plt.show()"
      ],
      "execution_count": 29,
      "outputs": [
        {
          "output_type": "display_data",
          "data": {
            "image/png": "[encoded data removed]",
            "text/plain": [
              "<Figure size 936x360 with 2 Axes>"
            ]
          },
          "metadata": {
            "tags": [],
            "needs_background": "light"
          }
        }
      ]
    },
    {
      "cell_type": "markdown",
      "metadata": {
        "id": "DZFpx2hL0JCR",
        "colab_type": "text"
      },
      "source": [
        "---\n",
        "\n",
        "Ahora sí, hacemos uso de nuestro índice inverso con los datos de **Entrenamiento**\n",
        "\n",
        "---"
      ]
    },
    {
      "cell_type": "code",
      "metadata": {
        "id": "20E1q98FxYtf",
        "colab_type": "code",
        "outputId": "99ad6d0b-cf32-4b85-e564-9c3c6797b21f",
        "colab": {
          "base_uri": "https://localhost:8080/",
          "height": 310
        }
      },
      "source": [
        "#Aquí es donde tardó 6 horas\n",
        "ifs = IndiceInverso()\n",
        "ifs.Add(bolsas_entrenamiento)"
      ],
      "execution_count": 0,
      "outputs": [
        {
          "output_type": "error",
          "ename": "KeyboardInterrupt",
          "evalue": "ignored",
          "traceback": [
            "\u001b[0;31m---------------------------------------------------------------------------\u001b[0m",
            "\u001b[0;31mKeyboardInterrupt\u001b[0m                         Traceback (most recent call last)",
            "\u001b[0;32m<ipython-input-24-e9e1d17ce822>\u001b[0m in \u001b[0;36m<module>\u001b[0;34m()\u001b[0m\n\u001b[1;32m      1\u001b[0m \u001b[0mifs\u001b[0m \u001b[0;34m=\u001b[0m \u001b[0mIndiceInverso\u001b[0m\u001b[0;34m(\u001b[0m\u001b[0;34m)\u001b[0m\u001b[0;34m\u001b[0m\u001b[0;34m\u001b[0m\u001b[0m\n\u001b[0;32m----> 2\u001b[0;31m \u001b[0mifs\u001b[0m\u001b[0;34m.\u001b[0m\u001b[0mAdd\u001b[0m\u001b[0;34m(\u001b[0m\u001b[0mbolsas_entrenamiento\u001b[0m\u001b[0;34m)\u001b[0m\u001b[0;34m\u001b[0m\u001b[0;34m\u001b[0m\u001b[0m\n\u001b[0m",
            "\u001b[0;32m<ipython-input-9-ddf4bb820c4b>\u001b[0m in \u001b[0;36mAdd\u001b[0;34m(self, Data)\u001b[0m\n\u001b[1;32m     96\u001b[0m       \u001b[0;32mfor\u001b[0m \u001b[0mCar\u001b[0m \u001b[0;32min\u001b[0m \u001b[0mBolsa\u001b[0m\u001b[0;34m:\u001b[0m\u001b[0;34m\u001b[0m\u001b[0;34m\u001b[0m\u001b[0m\n\u001b[1;32m     97\u001b[0m         \u001b[0;31m#Obtenemos el índice de nuestra característica\u001b[0m\u001b[0;34m\u001b[0m\u001b[0;34m\u001b[0m\u001b[0;34m\u001b[0m\u001b[0m\n\u001b[0;32m---> 98\u001b[0;31m         \u001b[0mself\u001b[0m\u001b[0;34m.\u001b[0m\u001b[0mIndex\u001b[0m \u001b[0;34m=\u001b[0m \u001b[0mself\u001b[0m\u001b[0;34m.\u001b[0m\u001b[0mInd_Car\u001b[0m\u001b[0;34m.\u001b[0m\u001b[0mindex\u001b[0m\u001b[0;34m(\u001b[0m\u001b[0mCar\u001b[0m\u001b[0;34m)\u001b[0m\u001b[0;34m\u001b[0m\u001b[0;34m\u001b[0m\u001b[0m\n\u001b[0m\u001b[1;32m     99\u001b[0m \u001b[0;34m\u001b[0m\u001b[0m\n\u001b[1;32m    100\u001b[0m         \u001b[0;31m#Ahora ya sabemos dónde debemos colocar\u001b[0m\u001b[0;34m\u001b[0m\u001b[0;34m\u001b[0m\u001b[0;34m\u001b[0m\u001b[0m\n",
            "\u001b[0;31mKeyboardInterrupt\u001b[0m: "
          ]
        }
      ]
    },
    {
      "cell_type": "markdown",
      "metadata": {
        "id": "M7GKD4kl2N4o",
        "colab_type": "text"
      },
      "source": [
        "---\n",
        "\n",
        "De acuerdo a lo que entendí, las búsquedas se realizarían enviando la imagen completa (En este caso, se mandaría la bolsa de características completa), para hacerlo más interesante escogo una imagen al azar para así observar el desempeño del algoritmo de mejor forma\n",
        "\n",
        "---"
      ]
    },
    {
      "cell_type": "code",
      "metadata": {
        "id": "lom9t6pD2hKW",
        "colab_type": "code",
        "colab": {}
      },
      "source": [
        "consulta = random.randint(0,len(bolsas_entrenamiento)-1)\n",
        "img_cons = Lista_Entr[consulta]"
      ],
      "execution_count": 0,
      "outputs": []
    },
    {
      "cell_type": "code",
      "metadata": {
        "id": "PldDw41MJ1gb",
        "colab_type": "code",
        "colab": {
          "base_uri": "https://localhost:8080/",
          "height": 282
        },
        "outputId": "46ad7475-2f20-4024-de7d-0e09804dda45"
      },
      "source": [
        "print(f\"La imagen de consulta es: {img_cons}\")\n",
        "obten_imagen(img_cons)"
      ],
      "execution_count": 31,
      "outputs": [
        {
          "output_type": "stream",
          "text": [
            "La imagen de consulta es: paris_triomphe_000267\n"
          ],
          "name": "stdout"
        },
        {
          "output_type": "display_data",
          "data": {
            "image/png": "[encoded data removed]",
            "text/plain": [
              "<Figure size 432x288 with 1 Axes>"
            ]
          },
          "metadata": {
            "tags": [],
            "needs_background": "light"
          }
        }
      ]
    },
    {
      "cell_type": "markdown",
      "metadata": {
        "id": "ArOtb4ik2AZS",
        "colab_type": "text"
      },
      "source": [
        "---\n",
        "\n",
        "Usamos el índice inverso para recuperar las que contienen las características de la una consulta ordenados por coincidencias\n",
        "\n",
        "---"
      ]
    },
    {
      "cell_type": "code",
      "metadata": {
        "id": "Wou5d62EKCGM",
        "colab_type": "code",
        "colab": {}
      },
      "source": [
        "consulta = bolsas_entrenamiento[consulta]"
      ],
      "execution_count": 0,
      "outputs": []
    },
    {
      "cell_type": "code",
      "metadata": {
        "id": "9deYySg_14z-",
        "colab_type": "code",
        "colab": {}
      },
      "source": [
        "Parecidos = ifs.recupera(consulta)"
      ],
      "execution_count": 0,
      "outputs": []
    },
    {
      "cell_type": "markdown",
      "metadata": {
        "id": "-vlCSWPv69mT",
        "colab_type": "text"
      },
      "source": [
        "---\n",
        "\n",
        "Como dato cultural muestro la imágen que tuvo más coincidencias\n",
        "\n",
        "---"
      ]
    },
    {
      "cell_type": "code",
      "metadata": {
        "id": "1SlBvUqb7CJY",
        "colab_type": "code",
        "colab": {}
      },
      "source": [
        "mayor = Parecidos.most_common()[0]"
      ],
      "execution_count": 0,
      "outputs": []
    },
    {
      "cell_type": "code",
      "metadata": {
        "id": "o6yQb9o27KZ_",
        "colab_type": "code",
        "colab": {}
      },
      "source": [
        "print(f\"La imagen con mayor parecido es: {Lista_Entr[mayor[0]]}\")"
      ],
      "execution_count": 0,
      "outputs": []
    },
    {
      "cell_type": "markdown",
      "metadata": {
        "id": "dc4lrNI16j7o",
        "colab_type": "text"
      },
      "source": [
        "---\n",
        "\n",
        "Ya tenemos las imágenes que se pueden parecer más, ahora bien, me parece que aquellas cuya frecuencia sea = 1, es decir sólo hubo 1 característica que coincidió no pienso que san realmente relevantes, así que los elimino\n",
        "\n",
        "---"
      ]
    },
    {
      "cell_type": "code",
      "metadata": {
        "id": "u0tgEnGH61S_",
        "colab_type": "code",
        "colab": {}
      },
      "source": [
        "Res = []\n",
        "k=0\n",
        "for (_,i) in Parecidos:\n",
        "  k+=1\n",
        "  if i > 1:\n",
        "    Res.append(Parecidos[k])"
      ],
      "execution_count": 0,
      "outputs": []
    },
    {
      "cell_type": "markdown",
      "metadata": {
        "id": "CVRAAhyW8AZF",
        "colab_type": "text"
      },
      "source": [
        "---\n",
        "\n",
        "Ahora sí ya contamos con la lista de imagenes a evaluar en cuanto a distancias, por lo que procedemos a crear una función que nos ayude a evaluar las 3 distancias y retornar el mayor de cada una.\n",
        "\n",
        "---"
      ]
    },
    {
      "cell_type": "code",
      "metadata": {
        "id": "NNqff8saAHvM",
        "colab_type": "code",
        "colab": {}
      },
      "source": [
        "def Evalua_distancias(Consulta, Parecidos):\n",
        "    \n",
        "    # De acuerdo con las especificaciones del proyecto, debo evaluar\n",
        "    # con Jaccard, MinMax y Coseno, por lo que eso hace esta función\n",
        "    # PERO, sólo va a mostar el que tuvo mayor coincidencia de \n",
        "    # Cada una de las funciones, es decir, devolverá el más común para \n",
        "    # Jaccad, el más común para Coseno y el más común para MinMax\n",
        "\n",
        "    Jac = []\n",
        "    Cos = []\n",
        "    Min = []\n",
        "\n",
        "    # Calculamos las distancias entre cada uno de ellos\n",
        "    for Y in Parecidos:\n",
        "      Jac.append(similitud_coseno(Consulta,Y))\n",
        "      Cos.append(similitud_jaccard(Consulta,Y))\n",
        "      Min.append(similitud_minmax(Consulta,Y))\n",
        "\n",
        "    Res = []\n",
        "\n",
        "    #Finalmente crearemos una lista con los máximos de cada uno, devolveremos 3 elementos\n",
        "\n",
        "    aux = np.argmax(Jac)\n",
        "    Res.append((aux, jac[aux]))\n",
        "\n",
        "    aux = np.argmax(Cos)\n",
        "    Res.append((aux,Cos[aux]))\n",
        "\n",
        "    aux = np.argmax(Min)\n",
        "    Res.append((aux,Min[aux])))\n",
        "\n",
        "    return Res # Devolvemos la lista con los 3 que tuvieron mayor coincidencia y claro, su valor\n",
        "\n",
        "\n"
      ],
      "execution_count": 0,
      "outputs": []
    },
    {
      "cell_type": "markdown",
      "metadata": {
        "id": "tEPSrl3EHfV1",
        "colab_type": "text"
      },
      "source": [
        "---\n",
        "\n",
        "Lo último que queda es llamarla y mostrar nuestras Imágenes con mayor coincidencia\n",
        "\n",
        "---"
      ]
    },
    {
      "cell_type": "code",
      "metadata": {
        "id": "9krzEFItJHyL",
        "colab_type": "code",
        "colab": {}
      },
      "source": [
        "Maximos = Evalua_distancias(consulta,Res)"
      ],
      "execution_count": 0,
      "outputs": []
    },
    {
      "cell_type": "code",
      "metadata": {
        "id": "slmafSz2XvnR",
        "colab_type": "code",
        "colab": {}
      },
      "source": [
        "print(f\"Se evaluó la imagen {img_cons}\")\n",
        "print(f\"La mayor coincidencia de con similitud de Jaccard fue:\\n{Maximos[0][0]} con un resultado de {Maximos[0][1]}\")\n",
        "obten_imagen(Maximos[0][0])"
      ],
      "execution_count": 0,
      "outputs": []
    },
    {
      "cell_type": "code",
      "metadata": {
        "id": "aTCtCHsPXvTo",
        "colab_type": "code",
        "colab": {}
      },
      "source": [
        "print(f\"La mayor coincidencia de con similitud de Coseno fue:\\n{Maximos[1][0]} con un resultado de {Maximos[1][1]}\")\n",
        "obten_imagen(Maximos[1][0])"
      ],
      "execution_count": 0,
      "outputs": []
    },
    {
      "cell_type": "code",
      "metadata": {
        "id": "XwvaIMFLJtkx",
        "colab_type": "code",
        "colab": {}
      },
      "source": [
        "print(f\"La mayor coincidencia de con similitud de MinMax fue:\\n{Maximos[2][0]} con un resultado de {Maximos[2][1]}\")\n",
        "obten_imagen(Maximos[2][0])"
      ],
      "execution_count": 0,
      "outputs": []
    }
  ]
}